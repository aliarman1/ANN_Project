{
 "cells": [
  {
   "cell_type": "code",
   "execution_count": 3,
   "id": "80da2f27",
   "metadata": {},
   "outputs": [
    {
     "name": "stdout",
     "output_type": "stream",
     "text": [
      "Start New Draw\n",
      "0\n",
      "saved...... 0\n",
      "clear screen now and redraw now new........\n",
      "Start New Draw\n",
      "1\n",
      "saved...... 1\n",
      "clear screen now and redraw now new........\n",
      "Start New Draw\n",
      "2\n",
      "saved...... 2\n",
      "clear screen now and redraw now new........\n",
      "Start New Draw\n",
      "3\n",
      "saved...... 3\n",
      "clear screen now and redraw now new........\n",
      "Start New Draw\n",
      "4\n",
      "saved...... 4\n",
      "clear screen now and redraw now new........\n",
      "Start New Draw\n",
      "5\n",
      "saved...... 5\n",
      "clear screen now and redraw now new........\n",
      "Start New Draw\n",
      "6\n",
      "saved...... 6\n",
      "clear screen now and redraw now new........\n",
      "Start New Draw\n",
      "7\n",
      "saved...... 7\n",
      "clear screen now and redraw now new........\n",
      "Start New Draw\n",
      "8\n",
      "saved...... 8\n",
      "clear screen now and redraw now new........\n",
      "Start New Draw\n",
      "9\n",
      "saved...... 9\n",
      "clear screen now and redraw now new........\n"
     ]
    }
   ],
   "source": [
    "import string\n",
    "import random\n",
    "\n",
    "\n",
    "\n",
    "\n",
    "import pyscreenshot as ImageGrab\n",
    "import time\n",
    "\n",
    " \n",
    "for i in range(0,10):    \n",
    "    print(\"Start New Draw\")\n",
    "    print(i)\n",
    "    time.sleep(15)\n",
    "    tem = str(i)\n",
    "    images_folder=\"captured_images/\" + tem+\"/\"\n",
    "    imf = images_folder\n",
    "    N = 7\n",
    "    res = ''.join(random.choices(string.ascii_uppercase +\n",
    "                             string.digits, k=N))\n",
    "    randString = str(res)\n",
    "    im=ImageGrab.grab(bbox=(8, 196,725, 624)) #x1,y1,x2,y2\n",
    "    print(\"saved......\",i)\n",
    "    im.save(imf+randString+str(i)+'.png')\n",
    "    print(\"clear screen now and redraw now new........\")\n",
    "    "
   ]
  },
  {
   "cell_type": "code",
   "execution_count": null,
   "id": "43f95f3a",
   "metadata": {},
   "outputs": [],
   "source": [
    "import pyscreenshot as ImageGrab\n",
    "import time\n",
    "images_folder=\"captured_images/9/\"\n",
    " \n",
    "for i in range(0,5):\n",
    "   time.sleep(8)\n",
    "   im=ImageGrab.grab(bbox=(8, 196,725, 624)) #x1,y1,x2,y2\n",
    "   print(\"saved......\",i)\n",
    "   im.save(images_folder+str(i)+'.png')\n",
    "   print(\"clear screen now and redraw now........\")"
   ]
  },
  {
   "cell_type": "code",
   "execution_count": null,
   "id": "ed9b752e",
   "metadata": {},
   "outputs": [],
   "source": []
  }
 ],
 "metadata": {
  "kernelspec": {
   "display_name": "Python 3 (ipykernel)",
   "language": "python",
   "name": "python3"
  },
  "language_info": {
   "codemirror_mode": {
    "name": "ipython",
    "version": 3
   },
   "file_extension": ".py",
   "mimetype": "text/x-python",
   "name": "python",
   "nbconvert_exporter": "python",
   "pygments_lexer": "ipython3",
   "version": "3.9.13"
  }
 },
 "nbformat": 4,
 "nbformat_minor": 5
}
