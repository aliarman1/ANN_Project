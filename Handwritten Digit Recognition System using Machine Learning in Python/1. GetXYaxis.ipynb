{
 "cells": [
  {
   "cell_type": "code",
   "execution_count": null,
   "id": "9274406c",
   "metadata": {},
   "outputs": [
    {
     "name": "stdout",
     "output_type": "stream",
     "text": [
      "Clicked at (8, 196)\n",
      "Clicked at (7, 616)\n",
      "Clicked at (721, 189)\n",
      "Clicked at (725, 624)\n",
      "Clicked at (1225, 301)\n",
      "Clicked at (1259, 387)\n"
     ]
    }
   ],
   "source": [
    "from pynput.mouse import Listener\n",
    "\n",
    "def on_click(x, y, button, pressed):\n",
    "    if pressed:\n",
    "        print(f\"Clicked at ({x}, {y})\")\n",
    "\n",
    "with Listener(on_click=on_click) as listener:\n",
    "    listener.join()\n"
   ]
  },
  {
   "cell_type": "code",
   "execution_count": null,
   "id": "48d00d7a",
   "metadata": {},
   "outputs": [],
   "source": []
  }
 ],
 "metadata": {
  "kernelspec": {
   "display_name": "Python 3 (ipykernel)",
   "language": "python",
   "name": "python3"
  },
  "language_info": {
   "codemirror_mode": {
    "name": "ipython",
    "version": 3
   },
   "file_extension": ".py",
   "mimetype": "text/x-python",
   "name": "python",
   "nbconvert_exporter": "python",
   "pygments_lexer": "ipython3",
   "version": "3.9.13"
  }
 },
 "nbformat": 4,
 "nbformat_minor": 5
}
